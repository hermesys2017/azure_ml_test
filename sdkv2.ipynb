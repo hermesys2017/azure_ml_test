{
 "cells": [
  {
   "cell_type": "code",
   "execution_count": 1,
   "metadata": {},
   "outputs": [],
   "source": [
    "# Handle to the workspace\n",
    "from azure.ai.ml import MLClient\n",
    "\n",
    "# Authentication package\n",
    "from azure.identity import DefaultAzureCredential\n",
    "\n",
    "credential = DefaultAzureCredential()"
   ]
  },
  {
   "cell_type": "code",
   "execution_count": 2,
   "metadata": {},
   "outputs": [],
   "source": [
    "# Get a handle to the workspace\n",
    "ml_client = MLClient(\n",
    "    credential=credential,\n",
    "    subscription_id=\"0eb4fdcd-6c57-487c-8598-fd92a4b059cf\",\n",
    "    resource_group_name=\"mlops-rg\",\n",
    "    workspace_name=\"mlops\",\n",
    ")"
   ]
  },
  {
   "cell_type": "code",
   "execution_count": 3,
   "metadata": {},
   "outputs": [
    {
     "name": "stdout",
     "output_type": "stream",
     "text": [
      "You already have a cluster named cpu-cluster, we'll reuse it as is.\n"
     ]
    }
   ],
   "source": [
    "from azure.ai.ml.entities import AmlCompute\n",
    "\n",
    "# Name assigned to the compute cluster\n",
    "cpu_compute_target = \"cpu-cluster\"\n",
    "\n",
    "try:\n",
    "    # let's see if the compute target already exists\n",
    "    cpu_cluster = ml_client.compute.get(cpu_compute_target)\n",
    "    print(\n",
    "        f\"You already have a cluster named {cpu_compute_target}, we'll reuse it as is.\"\n",
    "    )\n",
    "\n",
    "except Exception:\n",
    "    print(\"Creating a new cpu compute target...\")\n",
    "\n",
    "    # Let's create the Azure ML compute object with the intended parameters\n",
    "    cpu_cluster = AmlCompute(\n",
    "        name=cpu_compute_target,\n",
    "        # Azure ML Compute is the on-demand VM service\n",
    "        type=\"amlcompute\",\n",
    "        # VM Family\n",
    "        size=\"STANDARD_DS3_V2\",\n",
    "        # Minimum running nodes when there is no job running\n",
    "        min_instances=0,\n",
    "        # Nodes in cluster\n",
    "        max_instances=4,\n",
    "        # How many seconds will the node running after the job termination\n",
    "        idle_time_before_scale_down=180,\n",
    "        # Dedicated or LowPriority. The latter is cheaper but there is a chance of job termination\n",
    "        tier=\"Dedicated\",\n",
    "    )\n",
    "    print(\n",
    "         f\"AMLCompute with name {cpu_cluster.name} will be created, with compute size {cpu_cluster.size}\"\n",
    "          )\n",
    "    # Now, we pass the object to MLClient's create_or_update method\n",
    "    cpu_cluster = ml_client.compute.begin_create_or_update(cpu_cluster)"
   ]
  },
  {
   "cell_type": "code",
   "execution_count": 4,
   "metadata": {},
   "outputs": [],
   "source": [
    "# AzureML workspace details:\n",
    "subscription = '0eb4fdcd-6c57-487c-8598-fd92a4b059cf'\n",
    "resource_group = 'mlops-rg'\n",
    "workspace = 'mlops'\n",
    "datastore_name = 'mlopsdata'\n",
    "path_on_datastore = 'mlopstrain'\n",
    "\n",
    "# long-form Datastore uri format:\n",
    "uri = f'azureml://subscriptions/{subscription}/resourcegroups/{resource_group}/workspaces/{workspace}/datastores/{datastore_name}/paths/{path_on_datastore}/*.csv'"
   ]
  },
  {
   "cell_type": "code",
   "execution_count": 5,
   "metadata": {},
   "outputs": [],
   "source": [
    "data_asset = ml_client.data.get(name='mlopstrain', version='1')"
   ]
  },
  {
   "cell_type": "code",
   "execution_count": 6,
   "metadata": {},
   "outputs": [
    {
     "ename": "NotImplementedError",
     "evalue": "Linux distribution ubuntu 22.04 does not have automatic support. \nMissing packages: {'liblttng-ust.so.0'}\n.NET Core 3.1 can still be used via `dotnetcore2` if the required dependencies are installed.\nVisit https://aka.ms/dotnet-install-linux for Linux distro specific .NET Core install instructions.\nFollow your distro specific instructions to install `dotnet-runtime-*` and replace `*` with `3.1.23`.\n",
     "output_type": "error",
     "traceback": [
      "\u001b[0;31m---------------------------------------------------------------------------\u001b[0m",
      "\u001b[0;31mHTTPError\u001b[0m                                 Traceback (most recent call last)",
      "File \u001b[0;32m~/workspaces/azure_ml_test/.venv/lib/python3.10/site-packages/dotnetcore2/runtime.py:271\u001b[0m, in \u001b[0;36mensure_dependencies.<locals>.attempt_get_deps\u001b[0;34m(missing_pkgs)\u001b[0m\n\u001b[1;32m    270\u001b[0m \u001b[39mtry\u001b[39;00m:\n\u001b[0;32m--> 271\u001b[0m     blob_deps_to_file()\n\u001b[1;32m    272\u001b[0m     success \u001b[39m=\u001b[39m \u001b[39mTrue\u001b[39;00m\n",
      "File \u001b[0;32m~/workspaces/azure_ml_test/.venv/lib/python3.10/site-packages/dotnetcore2/runtime.py:263\u001b[0m, in \u001b[0;36mensure_dependencies.<locals>.blob_deps_to_file\u001b[0;34m()\u001b[0m\n\u001b[1;32m    262\u001b[0m ssl_context \u001b[39m=\u001b[39m ssl\u001b[39m.\u001b[39mcreate_default_context(cafile\u001b[39m=\u001b[39mcafile)\n\u001b[0;32m--> 263\u001b[0m blob \u001b[39m=\u001b[39m request\u001b[39m.\u001b[39;49murlopen(deps_url, context\u001b[39m=\u001b[39;49mssl_context)\n\u001b[1;32m    264\u001b[0m \u001b[39mwith\u001b[39;00m \u001b[39mopen\u001b[39m(deps_tar_path, \u001b[39m'\u001b[39m\u001b[39mwb\u001b[39m\u001b[39m'\u001b[39m) \u001b[39mas\u001b[39;00m f:\n",
      "File \u001b[0;32m/usr/lib/python3.10/urllib/request.py:216\u001b[0m, in \u001b[0;36murlopen\u001b[0;34m(url, data, timeout, cafile, capath, cadefault, context)\u001b[0m\n\u001b[1;32m    215\u001b[0m     opener \u001b[39m=\u001b[39m _opener\n\u001b[0;32m--> 216\u001b[0m \u001b[39mreturn\u001b[39;00m opener\u001b[39m.\u001b[39;49mopen(url, data, timeout)\n",
      "File \u001b[0;32m/usr/lib/python3.10/urllib/request.py:525\u001b[0m, in \u001b[0;36mOpenerDirector.open\u001b[0;34m(self, fullurl, data, timeout)\u001b[0m\n\u001b[1;32m    524\u001b[0m     meth \u001b[39m=\u001b[39m \u001b[39mgetattr\u001b[39m(processor, meth_name)\n\u001b[0;32m--> 525\u001b[0m     response \u001b[39m=\u001b[39m meth(req, response)\n\u001b[1;32m    527\u001b[0m \u001b[39mreturn\u001b[39;00m response\n",
      "File \u001b[0;32m/usr/lib/python3.10/urllib/request.py:634\u001b[0m, in \u001b[0;36mHTTPErrorProcessor.http_response\u001b[0;34m(self, request, response)\u001b[0m\n\u001b[1;32m    633\u001b[0m \u001b[39mif\u001b[39;00m \u001b[39mnot\u001b[39;00m (\u001b[39m200\u001b[39m \u001b[39m<\u001b[39m\u001b[39m=\u001b[39m code \u001b[39m<\u001b[39m \u001b[39m300\u001b[39m):\n\u001b[0;32m--> 634\u001b[0m     response \u001b[39m=\u001b[39m \u001b[39mself\u001b[39;49m\u001b[39m.\u001b[39;49mparent\u001b[39m.\u001b[39;49merror(\n\u001b[1;32m    635\u001b[0m         \u001b[39m'\u001b[39;49m\u001b[39mhttp\u001b[39;49m\u001b[39m'\u001b[39;49m, request, response, code, msg, hdrs)\n\u001b[1;32m    637\u001b[0m \u001b[39mreturn\u001b[39;00m response\n",
      "File \u001b[0;32m/usr/lib/python3.10/urllib/request.py:563\u001b[0m, in \u001b[0;36mOpenerDirector.error\u001b[0;34m(self, proto, *args)\u001b[0m\n\u001b[1;32m    562\u001b[0m args \u001b[39m=\u001b[39m (\u001b[39mdict\u001b[39m, \u001b[39m'\u001b[39m\u001b[39mdefault\u001b[39m\u001b[39m'\u001b[39m, \u001b[39m'\u001b[39m\u001b[39mhttp_error_default\u001b[39m\u001b[39m'\u001b[39m) \u001b[39m+\u001b[39m orig_args\n\u001b[0;32m--> 563\u001b[0m \u001b[39mreturn\u001b[39;00m \u001b[39mself\u001b[39;49m\u001b[39m.\u001b[39;49m_call_chain(\u001b[39m*\u001b[39;49margs)\n",
      "File \u001b[0;32m/usr/lib/python3.10/urllib/request.py:496\u001b[0m, in \u001b[0;36mOpenerDirector._call_chain\u001b[0;34m(self, chain, kind, meth_name, *args)\u001b[0m\n\u001b[1;32m    495\u001b[0m func \u001b[39m=\u001b[39m \u001b[39mgetattr\u001b[39m(handler, meth_name)\n\u001b[0;32m--> 496\u001b[0m result \u001b[39m=\u001b[39m func(\u001b[39m*\u001b[39;49margs)\n\u001b[1;32m    497\u001b[0m \u001b[39mif\u001b[39;00m result \u001b[39mis\u001b[39;00m \u001b[39mnot\u001b[39;00m \u001b[39mNone\u001b[39;00m:\n",
      "File \u001b[0;32m/usr/lib/python3.10/urllib/request.py:643\u001b[0m, in \u001b[0;36mHTTPDefaultErrorHandler.http_error_default\u001b[0;34m(self, req, fp, code, msg, hdrs)\u001b[0m\n\u001b[1;32m    642\u001b[0m \u001b[39mdef\u001b[39;00m \u001b[39mhttp_error_default\u001b[39m(\u001b[39mself\u001b[39m, req, fp, code, msg, hdrs):\n\u001b[0;32m--> 643\u001b[0m     \u001b[39mraise\u001b[39;00m HTTPError(req\u001b[39m.\u001b[39mfull_url, code, msg, hdrs, fp)\n",
      "\u001b[0;31mHTTPError\u001b[0m: HTTP Error 404: Not Found",
      "\nDuring handling of the above exception, another exception occurred:\n",
      "\u001b[0;31mNotImplementedError\u001b[0m                       Traceback (most recent call last)",
      "Cell \u001b[0;32mIn[6], line 5\u001b[0m\n\u001b[1;32m      2\u001b[0m \u001b[39mfrom\u001b[39;00m \u001b[39mazureml\u001b[39;00m\u001b[39m.\u001b[39;00m\u001b[39mfsspec\u001b[39;00m \u001b[39mimport\u001b[39;00m AzureMachineLearningFileSystem\n\u001b[1;32m      4\u001b[0m \u001b[39m# create the filesystem\u001b[39;00m\n\u001b[0;32m----> 5\u001b[0m fs \u001b[39m=\u001b[39m AzureMachineLearningFileSystem(data_asset\u001b[39m.\u001b[39;49mpath)\n\u001b[1;32m      7\u001b[0m \u001b[39m# append csv files in folder to a list\u001b[39;00m\n\u001b[1;32m      8\u001b[0m dflist \u001b[39m=\u001b[39m []\n",
      "File \u001b[0;32m~/workspaces/azure_ml_test/.venv/lib/python3.10/site-packages/fsspec/spec.py:76\u001b[0m, in \u001b[0;36m_Cached.__call__\u001b[0;34m(cls, *args, **kwargs)\u001b[0m\n\u001b[1;32m     74\u001b[0m     \u001b[39mreturn\u001b[39;00m \u001b[39mcls\u001b[39m\u001b[39m.\u001b[39m_cache[token]\n\u001b[1;32m     75\u001b[0m \u001b[39melse\u001b[39;00m:\n\u001b[0;32m---> 76\u001b[0m     obj \u001b[39m=\u001b[39m \u001b[39msuper\u001b[39;49m()\u001b[39m.\u001b[39;49m\u001b[39m__call__\u001b[39;49m(\u001b[39m*\u001b[39;49margs, \u001b[39m*\u001b[39;49m\u001b[39m*\u001b[39;49mkwargs)\n\u001b[1;32m     77\u001b[0m     \u001b[39m# Setting _fs_token here causes some static linters to complain.\u001b[39;00m\n\u001b[1;32m     78\u001b[0m     obj\u001b[39m.\u001b[39m_fs_token_ \u001b[39m=\u001b[39m token\n",
      "File \u001b[0;32m~/workspaces/azure_ml_test/.venv/lib/python3.10/site-packages/azureml/dataprep/api/_loggerfactory.py:273\u001b[0m, in \u001b[0;36mtrack.<locals>.monitor.<locals>.wrapper\u001b[0;34m(*args, **kwargs)\u001b[0m\n\u001b[1;32m    271\u001b[0m \u001b[39mwith\u001b[39;00m _LoggerFactory\u001b[39m.\u001b[39mtrack_activity(logger, func\u001b[39m.\u001b[39m\u001b[39m__name__\u001b[39m, DEFAULT_ACTIVITY_TYPE, custom_dimensions) \u001b[39mas\u001b[39;00m activityLogger:\n\u001b[1;32m    272\u001b[0m     \u001b[39mtry\u001b[39;00m:\n\u001b[0;32m--> 273\u001b[0m         \u001b[39mreturn\u001b[39;00m func(\u001b[39m*\u001b[39;49margs, \u001b[39m*\u001b[39;49m\u001b[39m*\u001b[39;49mkwargs)\n\u001b[1;32m    274\u001b[0m     \u001b[39mexcept\u001b[39;00m \u001b[39mException\u001b[39;00m \u001b[39mas\u001b[39;00m e:\n\u001b[1;32m    275\u001b[0m         \u001b[39mif\u001b[39;00m \u001b[39mhasattr\u001b[39m(activityLogger, ACTIVITY_INFO_KEY) \u001b[39mand\u001b[39;00m \u001b[39mhasattr\u001b[39m(e, ERROR_CODE_KEY):\n",
      "File \u001b[0;32m~/workspaces/azure_ml_test/.venv/lib/python3.10/site-packages/azureml/fsspec/spec.py:98\u001b[0m, in \u001b[0;36mAzureMachineLearningFileSystem.__init__\u001b[0;34m(self, uri, **kwargs)\u001b[0m\n\u001b[1;32m     92\u001b[0m \u001b[39msuper\u001b[39m()\u001b[39m.\u001b[39m\u001b[39m__init__\u001b[39m(\n\u001b[1;32m     93\u001b[0m     asynchronous\u001b[39m=\u001b[39m\u001b[39mFalse\u001b[39;00m, loop\u001b[39m=\u001b[39mget_loop()\n\u001b[1;32m     94\u001b[0m )\n\u001b[1;32m     96\u001b[0m subscription_id, resource_group, workspace_name, datastore_name, datastore_path \u001b[39m=\u001b[39m \\\n\u001b[1;32m     97\u001b[0m     AzureMachineLearningFileSystem\u001b[39m.\u001b[39m_infer_storage_options(uri)\n\u001b[0;32m---> 98\u001b[0m dataflow \u001b[39m=\u001b[39m _dprep\u001b[39m.\u001b[39mDataflow(_dprep\u001b[39m.\u001b[39;49mapi\u001b[39m.\u001b[39;49mengineapi\u001b[39m.\u001b[39;49mapi\u001b[39m.\u001b[39;49mget_engine_api())\n\u001b[1;32m     99\u001b[0m dataflow \u001b[39m=\u001b[39m dataflow\u001b[39m.\u001b[39madd_step(\n\u001b[1;32m    100\u001b[0m     \u001b[39m'\u001b[39m\u001b[39mMicrosoft.DPrep.GetDatastoreFilesBlock\u001b[39m\u001b[39m'\u001b[39m,\n\u001b[1;32m    101\u001b[0m     {\u001b[39m'\u001b[39m\u001b[39mdatastores\u001b[39m\u001b[39m'\u001b[39m: [{\n\u001b[0;32m   (...)\u001b[0m\n\u001b[1;32m    106\u001b[0m         \u001b[39m'\u001b[39m\u001b[39mpath\u001b[39m\u001b[39m'\u001b[39m: datastore_path\n\u001b[1;32m    107\u001b[0m     }]})\n\u001b[1;32m    109\u001b[0m \u001b[39mself\u001b[39m\u001b[39m.\u001b[39m_workspace_context \u001b[39m=\u001b[39m {\n\u001b[1;32m    110\u001b[0m     \u001b[39m'\u001b[39m\u001b[39msubscription\u001b[39m\u001b[39m'\u001b[39m: subscription_id,\n\u001b[1;32m    111\u001b[0m     \u001b[39m'\u001b[39m\u001b[39mresource_group\u001b[39m\u001b[39m'\u001b[39m: resource_group,\n\u001b[1;32m    112\u001b[0m     \u001b[39m'\u001b[39m\u001b[39mworkspace_name\u001b[39m\u001b[39m'\u001b[39m: workspace_name\n\u001b[1;32m    113\u001b[0m }\n",
      "File \u001b[0;32m~/workspaces/azure_ml_test/.venv/lib/python3.10/site-packages/azureml/dataprep/api/engineapi/api.py:19\u001b[0m, in \u001b[0;36mget_engine_api\u001b[0;34m()\u001b[0m\n\u001b[1;32m     17\u001b[0m \u001b[39mglobal\u001b[39;00m _engine_api\n\u001b[1;32m     18\u001b[0m \u001b[39mif\u001b[39;00m \u001b[39mnot\u001b[39;00m _engine_api:\n\u001b[0;32m---> 19\u001b[0m     _engine_api \u001b[39m=\u001b[39m EngineAPI()\n\u001b[1;32m     21\u001b[0m     \u001b[39mfrom\u001b[39;00m \u001b[39m.\u001b[39;00m\u001b[39m.\u001b[39;00m\u001b[39m_dataset_resolver\u001b[39;00m \u001b[39mimport\u001b[39;00m register_dataset_resolver\n\u001b[1;32m     22\u001b[0m     register_dataset_resolver(_engine_api\u001b[39m.\u001b[39mrequests_channel)\n",
      "File \u001b[0;32m~/workspaces/azure_ml_test/.venv/lib/python3.10/site-packages/azureml/dataprep/api/engineapi/api.py:102\u001b[0m, in \u001b[0;36mEngineAPI.__init__\u001b[0;34m(self)\u001b[0m\n\u001b[1;32m     99\u001b[0m     \u001b[39mself\u001b[39m\u001b[39m.\u001b[39m_engine_server_secret \u001b[39m=\u001b[39m \u001b[39mself\u001b[39m\u001b[39m.\u001b[39msync_host_secret(\u001b[39mself\u001b[39m\u001b[39m.\u001b[39mrequests_channel\u001b[39m.\u001b[39mhost_secret)\n\u001b[1;32m    100\u001b[0m     \u001b[39mself\u001b[39m\u001b[39m.\u001b[39m_engine_server_port \u001b[39m=\u001b[39m \u001b[39mself\u001b[39m\u001b[39m.\u001b[39msync_host_channel_port(\u001b[39mself\u001b[39m\u001b[39m.\u001b[39mrequests_channel\u001b[39m.\u001b[39mport)\n\u001b[0;32m--> 102\u001b[0m \u001b[39mself\u001b[39m\u001b[39m.\u001b[39m_message_channel \u001b[39m=\u001b[39m launch_engine()\n\u001b[1;32m    103\u001b[0m connect_to_requests_channel()\n\u001b[1;32m    105\u001b[0m \u001b[39mself\u001b[39m\u001b[39m.\u001b[39m_message_channel\u001b[39m.\u001b[39mon_relaunch(connect_to_requests_channel)\n",
      "File \u001b[0;32m~/workspaces/azure_ml_test/.venv/lib/python3.10/site-packages/azureml/dataprep/api/engineapi/engine.py:333\u001b[0m, in \u001b[0;36mlaunch_engine\u001b[0;34m()\u001b[0m\n\u001b[1;32m    331\u001b[0m engine_path \u001b[39m=\u001b[39m _get_engine_path()\n\u001b[1;32m    332\u001b[0m \u001b[39mtry\u001b[39;00m:\n\u001b[0;32m--> 333\u001b[0m     dependencies_path \u001b[39m=\u001b[39m runtime\u001b[39m.\u001b[39;49mensure_dependencies()\n\u001b[1;32m    334\u001b[0m \u001b[39mexcept\u001b[39;00m \u001b[39mException\u001b[39;00m \u001b[39mas\u001b[39;00m e:\n\u001b[1;32m    335\u001b[0m     _LoggerFactory\u001b[39m.\u001b[39mtrace(log, \u001b[39m'\u001b[39m\u001b[39mFailed to ensure dependencies\u001b[39m\u001b[39m'\u001b[39m \u001b[39m+\u001b[39m \u001b[39mstr\u001b[39m(e))\n",
      "File \u001b[0;32m~/workspaces/azure_ml_test/.venv/lib/python3.10/site-packages/dotnetcore2/runtime.py:285\u001b[0m, in \u001b[0;36mensure_dependencies\u001b[0;34m()\u001b[0m\n\u001b[1;32m    282\u001b[0m         success \u001b[39m=\u001b[39m \u001b[39mFalse\u001b[39;00m\n\u001b[1;32m    283\u001b[0m     \u001b[39mreturn\u001b[39;00m success\n\u001b[0;32m--> 285\u001b[0m \u001b[39mif\u001b[39;00m \u001b[39mnot\u001b[39;00m attempt_get_deps(missing_pkgs):\n\u001b[1;32m    286\u001b[0m     \u001b[39m# Failed accessing blob, likely an interrupted connection. Try again once more.\u001b[39;00m\n\u001b[1;32m    287\u001b[0m     \u001b[39mif\u001b[39;00m \u001b[39mnot\u001b[39;00m attempt_get_deps(missing_pkgs):\n\u001b[1;32m    288\u001b[0m         err_msg \u001b[39m=\u001b[39m \u001b[39m'\u001b[39m\u001b[39mUnable to retrieve .NET dependencies. Please make sure you are connected to the Internet and have \u001b[39m\u001b[39m\\\u001b[39;00m\n\u001b[1;32m    289\u001b[0m \u001b[39m            a stable network connection. \u001b[39m\u001b[39m\\n\u001b[39;00m\u001b[39mMissing packages: \u001b[39m\u001b[39m{}\u001b[39;00m\u001b[39m\\n\u001b[39;00m\u001b[39m{}\u001b[39;00m\u001b[39m'\u001b[39m\u001b[39m.\u001b[39mformat(missing_pkgs, _unsupported_help_msg)\n",
      "File \u001b[0;32m~/workspaces/azure_ml_test/.venv/lib/python3.10/site-packages/dotnetcore2/runtime.py:279\u001b[0m, in \u001b[0;36mensure_dependencies.<locals>.attempt_get_deps\u001b[0;34m(missing_pkgs)\u001b[0m\n\u001b[1;32m    275\u001b[0m     \u001b[39mif\u001b[39;00m e\u001b[39m.\u001b[39mcode \u001b[39m==\u001b[39m \u001b[39m404\u001b[39m:\n\u001b[1;32m    276\u001b[0m         \u001b[39m# Requested blob not found so we don't have deps for this distribution.\u001b[39;00m\n\u001b[1;32m    277\u001b[0m         err_msg \u001b[39m=\u001b[39m \u001b[39m'\u001b[39m\u001b[39mLinux distribution \u001b[39m\u001b[39m{0}\u001b[39;00m\u001b[39m \u001b[39m\u001b[39m{1}\u001b[39;00m\u001b[39m.\u001b[39m\u001b[39m{2}\u001b[39;00m\u001b[39m does not have automatic support. \u001b[39m\u001b[39m\\n\u001b[39;00m\u001b[39mMissing packages: \u001b[39m\u001b[39m{3}\u001b[39;00m\u001b[39m'\u001b[39m\u001b[39m.\u001b[39mformat(\n\u001b[1;32m    278\u001b[0m             dist, version[\u001b[39m0\u001b[39m], version[\u001b[39m1\u001b[39m], missing_pkgs)\n\u001b[0;32m--> 279\u001b[0m         \u001b[39mraise\u001b[39;00m \u001b[39mNotImplementedError\u001b[39;00m(err_msg \u001b[39m+\u001b[39m \u001b[39m'\u001b[39m\u001b[39m\\n\u001b[39;00m\u001b[39m'\u001b[39m \u001b[39m+\u001b[39m _unsupported_help_msg)\n\u001b[1;32m    280\u001b[0m \u001b[39mexcept\u001b[39;00m \u001b[39mException\u001b[39;00m \u001b[39mas\u001b[39;00m e:\n\u001b[1;32m    281\u001b[0m     logger\u001b[39m.\u001b[39mdebug(\u001b[39m\"\u001b[39m\u001b[39mException when accessing blob: \u001b[39m\u001b[39m\"\u001b[39m \u001b[39m+\u001b[39m \u001b[39mstr\u001b[39m(e))\n",
      "\u001b[0;31mNotImplementedError\u001b[0m: Linux distribution ubuntu 22.04 does not have automatic support. \nMissing packages: {'liblttng-ust.so.0'}\n.NET Core 3.1 can still be used via `dotnetcore2` if the required dependencies are installed.\nVisit https://aka.ms/dotnet-install-linux for Linux distro specific .NET Core install instructions.\nFollow your distro specific instructions to install `dotnet-runtime-*` and replace `*` with `3.1.23`.\n"
     ]
    }
   ],
   "source": [
    "import pandas as pd\n",
    "from azureml.fsspec import AzureMachineLearningFileSystem\n",
    "\n",
    "# create the filesystem\n",
    "fs = AzureMachineLearningFileSystem(data_asset.path)\n",
    "\n",
    "# append csv files in folder to a list\n",
    "dflist = []\n",
    "for path in fs.ls():\n",
    "    with fs.open(path) as f:\n",
    "        dflist.append(pd.read_csv(f))"
   ]
  }
 ],
 "metadata": {
  "kernelspec": {
   "display_name": ".venv",
   "language": "python",
   "name": "python3"
  },
  "language_info": {
   "codemirror_mode": {
    "name": "ipython",
    "version": 3
   },
   "file_extension": ".py",
   "mimetype": "text/x-python",
   "name": "python",
   "nbconvert_exporter": "python",
   "pygments_lexer": "ipython3",
   "version": "3.10.6"
  },
  "orig_nbformat": 4,
  "vscode": {
   "interpreter": {
    "hash": "252285cb8808abf84984796d2dfeea3d878c4ff679a51b39aad2629430a9a1a6"
   }
  }
 },
 "nbformat": 4,
 "nbformat_minor": 2
}
